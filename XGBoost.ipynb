{
  "cells": [
    {
      "cell_type": "markdown",
      "metadata": {
        "id": "4YwZNkrYj_fS"
      },
      "source": [
        "#**Builds, Trains & Tests your XGBoost Model**"
      ]
    },
    {
      "cell_type": "code",
      "execution_count": null,
      "metadata": {
        "id": "WNL6TtVYgRw4"
      },
      "outputs": [],
      "source": [
        "import pandas as pd\n",
        "from sklearn.model_selection import train_test_split\n",
        "from sklearn.preprocessing import LabelEncoder\n",
        "from xgboost import XGBClassifier\n",
        "from sklearn.metrics import log_loss, accuracy_score"
      ]
    },
    {
      "cell_type": "code",
      "execution_count": null,
      "metadata": {
        "id": "ktx61wEWh0-a"
      },
      "outputs": [],
      "source": [
        "# Load the dataset\n",
        "df = pd.read_csv(\"CVD_cleaned.csv\")\n",
        "\n",
        "# Drop disease-related features (but keep Heart_Disease as target)\n",
        "disease_features = [ 'Skin_Cancer', 'Other_Cancer', 'Depression', 'Diabetes', 'Arthritis']\n",
        "df = df.drop(columns=disease_features)\n",
        "\n",
        "# Encode all categorical features using LabelEncoder\n",
        "label_encoders = {}\n",
        "for col in df.select_dtypes(include='object').columns:\n",
        "    le = LabelEncoder()\n",
        "    df[col] = le.fit_transform(df[col])\n",
        "    label_encoders[col] = le\n",
        "\n",
        "# Define features (X) and target (y)\n",
        "X = df.drop(columns='Heart_Disease')\n",
        "y = df['Heart_Disease']\n",
        "\n",
        "# Split the data into train and test sets (80/20 split)\n",
        "X_train, X_test, y_train, y_test = train_test_split(X, y, test_size=0.2, random_state=42)\n",
        "\n",
        "# Train an XGBoost Classifier\n",
        "xgb = XGBClassifier(n_estimators=100, max_depth=6, eta=0.3)\n",
        "xgb.fit(X_train, y_train)\n",
        "\n",
        "# Predict probabilities and class labels\n",
        "y_proba = xgb.predict_proba(X_test)\n",
        "y_pred = xgb.predict(X_test)\n",
        "\n",
        "# Calculate loss and accuracy\n",
        "loss = log_loss(y_test, y_proba)\n",
        "accuracy = accuracy_score(y_test, y_pred)\n",
        "\n",
        "# Print results\n",
        "print(f\"Test Loss: {loss:.4f}\")\n",
        "print(f\"Test Accuracy: {accuracy:.4f}\")"
      ]
    },
    {
      "cell_type": "markdown",
      "metadata": {
        "id": "3Ai3Mffdq1it"
      },
      "source": [
        "#**Plots Metrics**"
      ]
    },
    {
      "cell_type": "code",
      "execution_count": null,
      "metadata": {
        "id": "1jyWixHPq1yg"
      },
      "outputs": [],
      "source": [
        "import matplotlib.pyplot as plt\n",
        "import seaborn as sns\n",
        "from sklearn.metrics import confusion_matrix"
      ]
    },
    {
      "cell_type": "code",
      "execution_count": null,
      "metadata": {
        "id": "eFwoMqmBk6Y4"
      },
      "outputs": [],
      "source": [
        "# Feature Importance\n",
        "plt.figure(figsize=(8, 6))\n",
        "xgb.feature_importances_\n",
        "importance_df = pd.DataFrame({'Feature': X_train.columns, 'Importance': xgb.feature_importances_}).sort_values(by='Importance', ascending=False)\n",
        "\n",
        "sns.barplot(data=importance_df.head(10), x='Importance', y='Feature')\n",
        "plt.title(\"Top 10 Feature Importances\")\n",
        "plt.show()"
      ]
    },
    {
      "cell_type": "code",
      "execution_count": null,
      "metadata": {
        "id": "kzSYYD4HlW7L"
      },
      "outputs": [],
      "source": [
        "# Confusion Matrix\n",
        "y_pred = xgb.predict(X_test)\n",
        "cm = confusion_matrix(y_test, y_pred)\n",
        "\n",
        "plt.figure(figsize=(6, 5))\n",
        "sns.heatmap(cm, annot=True, fmt='d', cmap='Blues', xticklabels=['No', 'Yes'], yticklabels=['No', 'Yes'])\n",
        "plt.title(\"Confusion Matrix\")\n",
        "plt.xlabel(\"Predicted\")\n",
        "plt.ylabel(\"Actual\")\n",
        "plt.show()"
      ]
    },
    {
      "cell_type": "markdown",
      "metadata": {
        "id": "ufqlOnXxq6r5"
      },
      "source": [
        "#**Applies the Model**"
      ]
    },
    {
      "cell_type": "code",
      "execution_count": null,
      "metadata": {
        "id": "DX74WAdaq68a"
      },
      "outputs": [],
      "source": [
        "# Make predictions on the test set\n",
        "y_pred = xgb.predict(X_test)\n",
        "\n",
        "# Get the original patient IDs (row indices in the original dataset)\n",
        "patient_ids = X_test.index\n",
        "\n",
        "# Combine and sort by patient ID\n",
        "predictions = sorted(zip(patient_ids, y_pred))\n",
        "\n",
        "# Print predictions sorted by actual patient ID\n",
        "for patient_id, pred in predictions:\n",
        "    status = \"has heart disease\" if pred == 1 else \"does not have heart disease\"\n",
        "    print(f\"Patient {patient_id} {status}\")"
      ]
    }
  ],
  "metadata": {
    "colab": {
      "provenance": []
    },
    "kernelspec": {
      "display_name": "Python 3",
      "name": "python3"
    },
    "language_info": {
      "name": "python"
    }
  },
  "nbformat": 4,
  "nbformat_minor": 0
}